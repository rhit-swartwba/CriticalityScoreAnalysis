{
 "cells": [
  {
   "cell_type": "code",
   "execution_count": null,
   "id": "a86ab6ac-965b-4c13-a982-402dd1050965",
   "metadata": {},
   "outputs": [],
   "source": [
    "import numpy as np\n",
    "import pandas as pd\n",
    "import seaborn as sns\n",
    "import matplotlib.pyplot as plt\n",
    "from sklearn.linear_model import LinearRegression\n",
    "from sklearn.linear_model import Ridge\n",
    "from sklearn.metrics import mean_squared_error, mean_absolute_error, r2_score\n",
    "from sklearn import preprocessing, svm\n",
    "from sklearn.model_selection import train_test_split\n",
    "from sklearn.model_selection import RepeatedKFold\n",
    "from sklearn.model_selection import GridSearchCV"
   ]
  },
  {
   "cell_type": "code",
   "execution_count": null,
   "id": "52455ca4-d5f0-4b5c-bd87-0942b57385d5",
   "metadata": {},
   "outputs": [],
   "source": [
    "df = pd.read_csv('CSDataAsCSV.csv', usecols=[i for i in range(6, 18) if i != 16])\n",
    "df.head()"
   ]
  },
  {
   "cell_type": "code",
   "execution_count": null,
   "id": "309fff9d-bd0b-4406-830a-5e29dd211ea8",
   "metadata": {},
   "outputs": [],
   "source": [
    "X = df.drop('criticality_score', axis=1)\n",
    "y = df['criticality_score']"
   ]
  },
  {
   "cell_type": "code",
   "execution_count": null,
   "id": "471d710b-f67d-40ed-a499-a81b28a17d29",
   "metadata": {},
   "outputs": [],
   "source": [
    "X_train, X_test, y_train, y_test = train_test_split(\n",
    "    X, y, test_size=0.3, random_state=101)"
   ]
  },
  {
   "cell_type": "code",
   "execution_count": null,
   "id": "926e90fb-df0d-4962-8551-091977260d8f",
   "metadata": {},
   "outputs": [],
   "source": [
    "model = LinearRegression()\n",
    "model.fit(X_train,y_train)"
   ]
  },
  {
   "cell_type": "code",
   "execution_count": null,
   "id": "ddbdb25d-43bd-41ec-af22-aaf67654a687",
   "metadata": {},
   "outputs": [],
   "source": [
    "predictions = model.predict(X_test)"
   ]
  },
  {
   "cell_type": "code",
   "execution_count": null,
   "id": "c5afe57c-bb48-4c10-b40b-c08ee31b6d40",
   "metadata": {},
   "outputs": [],
   "source": [
    "print(\n",
    "  'mean_squared_error : ', mean_squared_error(y_test, predictions))\n",
    "print(\n",
    "  'mean_absolute_error : ', mean_absolute_error(y_test, predictions))"
   ]
  },
  {
   "cell_type": "code",
   "execution_count": null,
   "id": "386ca907-9293-4b8e-bfdc-feb5a071ecfe",
   "metadata": {},
   "outputs": [],
   "source": [
    "#Model slopes\n",
    "model.coef_"
   ]
  },
  {
   "cell_type": "code",
   "execution_count": null,
   "id": "693c1771-c546-4f07-bdf3-ee2d982d69f7",
   "metadata": {},
   "outputs": [],
   "source": [
    "#Model intercept\n",
    "model.intercept_"
   ]
  },
  {
   "cell_type": "code",
   "execution_count": null,
   "id": "8308a439-0ae5-4e21-a124-6fa73218bb57",
   "metadata": {},
   "outputs": [],
   "source": [
    "#Test y squared\n",
    "print(r2_score(y_test, predictions))"
   ]
  },
  {
   "cell_type": "code",
   "execution_count": null,
   "id": "6a9cc917-9afc-43c3-90fa-93206afc4756",
   "metadata": {},
   "outputs": [],
   "source": [
    "#All predictions\n",
    "plt.ylim(0,1)\n",
    "plt.scatter(range(len(y_test)), y_test, color='blue', label = \"Actual Score\")\n",
    "plt.scatter(range(len(predictions)), predictions, color='red', label = \"Predicted Score\")\n",
    "plt.xlabel(\"GitHub Project\")\n",
    "plt.ylabel(\"Criticality Score\")\n",
    "plt.legend(loc=\"upper left\")\n",
    "plt.title(\"Linear Regression Prediction Accuracy All Test Data\")\n",
    "plt.show()"
   ]
  },
  {
   "cell_type": "code",
   "execution_count": null,
   "id": "699b5ae7-d12c-4e84-8c60-6adc422d9be1",
   "metadata": {},
   "outputs": [],
   "source": [
    "#First 50 predictions compared\n",
    "plt.ylim(0,1)\n",
    "plt.xlim(0,50)\n",
    "plt.scatter(range(len(y_test)), y_test, color='blue', label = \"Actual Score\")\n",
    "plt.scatter(range(len(predictions)), predictions, color='red', label = \"Predicted Score\")\n",
    "plt.xlabel(\"GitHub Project\")\n",
    "plt.ylabel(\"Criticality Score\")\n",
    "plt.title(\"Linear Regression Prediction Accuracy\")\n",
    "plt.legend(loc=\"upper left\")\n",
    "plt.show()"
   ]
  },
  {
   "cell_type": "code",
   "execution_count": null,
   "id": "8e1e3516-93be-47be-b4b4-fd0e7407c223",
   "metadata": {},
   "outputs": [],
   "source": [
    "#Regression line on each figure\n",
    "fig, axes = plt.subplots(nrows=1, ncols=2, figsize=(10,4))\n",
    "axes[0].scatter(X['contributor_count'], y)\n",
    "axes[1].scatter(X['github_mention_count'], y)\n",
    "xVAL = np.linspace(0, 5000, 100000)\n",
    "yVAL = xVAL*(3.05671967e-05) + 0.5197769075115254\n",
    "xVAL2 = np.linspace(0, 500000, 1000000)\n",
    "yVAL2 = xVAL2*(9.42840512e-10) + 0.6197769075115254\n",
    "#7\n",
    "axes[0].plot(xVAL,yVAL, color = \"red\")\n",
    "axes[1].plot(xVAL2,yVAL2, color = \"red\")\n",
    "axes[0].set_title(\"Contributor Count Data\")\n",
    "axes[1].set_title(\"Dependents Count Data\")\n",
    "axes[0].set_xlabel(\"Contributor Count\")\n",
    "axes[0].set_ylabel(\"Criticality Score\")\n",
    "axes[1].set_xlabel(\"Dependent Count\")\n",
    "axes[1].set_ylabel(\"Criticality Score\")\n",
    "axes[1].set_xlim([0,500000])\n",
    "plt.show()"
   ]
  },
  {
   "cell_type": "code",
   "execution_count": null,
   "id": "43a1047d-dad5-41f9-9dad-0af6c870a735",
   "metadata": {},
   "outputs": [],
   "source": [
    "fig, axes = plt.subplots(nrows=1, ncols=2, figsize=(10,4))\n",
    "axes[0].scatter(X['created_since'], y)\n",
    "axes[1].scatter(X['updated_since'], y)\n",
    "xVAL = np.linspace(0, 700, 10000)\n",
    "yVAL = xVAL*(1.28094045e-04) + 0.4197769075115254\n",
    "xVAL2 = np.linspace(0, 4000, 10000)\n",
    "yVAL2 = xVAL2*(-2.58763120e-04) + 0.7197769075115254\n",
    "axes[0].plot(xVAL,yVAL, color = \"red\")\n",
    "axes[1].plot(xVAL2,yVAL2, color = \"red\")\n",
    "axes[0].set_title(\"Created Since Data\")\n",
    "axes[1].set_title(\"Updated Since Data\")\n",
    "axes[0].set_xlabel(\"Months Created Since\")\n",
    "axes[0].set_ylabel(\"Criticality Score\")\n",
    "axes[1].set_xlabel(\"Months Updated Since\")\n",
    "axes[1].set_ylabel(\"Criticality Score\")\n",
    "plt.show()"
   ]
  },
  {
   "cell_type": "code",
   "execution_count": null,
   "id": "fe18efc0-e35f-4fb0-92f8-e46158815671",
   "metadata": {},
   "outputs": [],
   "source": [
    "fig, axes = plt.subplots(nrows=1, ncols=2, figsize=(10,4))\n",
    "axes[0].scatter(X['org_count'], y)\n",
    "axes[1].scatter(X['commit_frequency'], y)\n",
    "xVAL = np.linspace(0, 16, 100)\n",
    "yVAL = xVAL*(3.10799919e-02) + 0.2197769075115254\n",
    "xVAL2 = np.linspace(0, 6000, 10000)\n",
    "yVAL2 = xVAL2*(1.71704155e-04) + 0.197769075115254\n",
    "axes[0].plot(xVAL,yVAL, color = \"red\")\n",
    "axes[1].plot(xVAL2,yVAL2, color = \"red\")\n",
    "axes[0].set_title(\"Organization Count Data\")\n",
    "axes[1].set_title(\"Commit Frequency Data\")\n",
    "axes[0].set_xlabel(\"Number of Distinct Orgs\")\n",
    "axes[0].set_ylabel(\"Criticality Score\")\n",
    "axes[1].set_xlabel(\"Commitment Frequency of Project\")\n",
    "axes[1].set_ylabel(\"Criticality Score\")\n",
    "plt.show()"
   ]
  },
  {
   "cell_type": "code",
   "execution_count": null,
   "id": "03ee3fcd-aa34-4e26-8193-fe8fd921aaa7",
   "metadata": {},
   "outputs": [],
   "source": [
    "fig, axes = plt.subplots(nrows=1, ncols=2, figsize=(10,4))\n",
    "axes[0].scatter(X['recent_release_count'], y)\n",
    "axes[1].scatter(X['issue_comment_frequency'], y)\n",
    "xVAL = np.linspace(0, 20000, 10000)\n",
    "yVAL = xVAL*(1.18442692e-04) + 0.1197769075115254\n",
    "xVAL2 = np.linspace(0, 300, 10000)\n",
    "yVAL2 = xVAL2*( 1.81029279e-02) + 0.197769075115254\n",
    "axes[0].plot(xVAL,yVAL, color = \"red\")\n",
    "axes[1].plot(xVAL2,yVAL2, color = \"red\")\n",
    "axes[0].set_title(\"Recent Release Count Data\")\n",
    "axes[1].set_title(\"Issue Comment Frequency Data\")\n",
    "axes[0].set_xlabel(\"Number of Recent Releases (Last year)\")\n",
    "axes[0].set_ylabel(\"Criticality Score\")\n",
    "axes[1].set_xlabel(\"Issue Comment Frequency (Avg. in last 90 days)\")\n",
    "axes[1].set_ylabel(\"Criticality Score\")\n",
    "axes[0].set_ylim([0,1])\n",
    "axes[1].set_ylim([0,1])\n",
    "plt.show()"
   ]
  },
  {
   "cell_type": "code",
   "execution_count": null,
   "id": "3de7bd2c-f840-4336-8d45-0b515a313a32",
   "metadata": {},
   "outputs": [],
   "source": [
    "fig, axes = plt.subplots(nrows=1, ncols=2, figsize=(10,4))\n",
    "axes[0].scatter(X['updated_issues_count'], y)\n",
    "axes[1].scatter(X['closed_issues_count'], y)\n",
    "xVAL = np.linspace(0, 75000, 100000)\n",
    "yVAL = xVAL*(9.65094170e-05) + 0.2197769075115254\n",
    "xVAL2 = np.linspace(0, 75000, 100000)\n",
    "yVAL2 = xVAL2*(-8.29989346e-05) + 0.797769075115254\n",
    "axes[0].plot(xVAL,yVAL, color = \"red\")\n",
    "axes[1].plot(xVAL2,yVAL2, color = \"red\")\n",
    "axes[0].set_title(\"Updated Issues Data\")\n",
    "axes[1].set_title(\"Closed Issues Data\")\n",
    "axes[0].set_xlabel(\"Number of Updated Issues (Past 90 days)\")\n",
    "axes[0].set_ylabel(\"Criticality Score\")\n",
    "axes[1].set_xlabel(\"Number of Closed Issues (Past 90 days)\")\n",
    "axes[1].set_ylabel(\"Criticality Score\")\n",
    "axes[0].set_ylim([0,1])\n",
    "axes[1].set_ylim([0,1])\n",
    "plt.show()"
   ]
  }
 ],
 "metadata": {
  "kernelspec": {
   "display_name": "Python 3 (ipykernel)",
   "language": "python",
   "name": "python3"
  },
  "language_info": {
   "codemirror_mode": {
    "name": "ipython",
    "version": 3
   },
   "file_extension": ".py",
   "mimetype": "text/x-python",
   "name": "python",
   "nbconvert_exporter": "python",
   "pygments_lexer": "ipython3",
   "version": "3.10.9"
  }
 },
 "nbformat": 4,
 "nbformat_minor": 5
}
