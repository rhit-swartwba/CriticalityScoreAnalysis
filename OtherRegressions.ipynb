{
 "cells": [
  {
   "cell_type": "code",
   "execution_count": null,
   "id": "a86ab6ac-965b-4c13-a982-402dd1050965",
   "metadata": {},
   "outputs": [],
   "source": [
    "import numpy as np\n",
    "import pandas as pd\n",
    "import seaborn as sns\n",
    "import matplotlib.pyplot as plt\n",
    "from sklearn.linear_model import LinearRegression\n",
    "from sklearn.metrics import mean_squared_error, mean_absolute_error, r2_score\n",
    "from sklearn import preprocessing, svm\n",
    "from sklearn.model_selection import train_test_split\n",
    "from sklearn.linear_model import Ridge\n",
    "from sklearn.linear_model import Lasso\n",
    "from sklearn.linear_model import ElasticNet\n",
    "from sklearn.linear_model import SGDRegressor\n",
    "from sklearn.preprocessing import scale\n",
    "from sklearn import linear_model"
   ]
  },
  {
   "cell_type": "code",
   "execution_count": null,
   "id": "52455ca4-d5f0-4b5c-bd87-0942b57385d5",
   "metadata": {},
   "outputs": [],
   "source": [
    "df = pd.read_csv('CSDataAsCSV.csv', usecols=[i for i in range(6, 18) if i != 16])\n",
    "df.head(10)"
   ]
  },
  {
   "cell_type": "code",
   "execution_count": null,
   "id": "0d8e6b1d-d65f-4d7c-bb3a-93ee87300bdd",
   "metadata": {},
   "outputs": [],
   "source": [
    "from sklearn.preprocessing import StandardScaler\n",
    "scaler = StandardScaler()\n",
    "scaled_df=df.copy()\n",
    "scaled_df=pd.DataFrame(scaler.fit_transform(scaled_df), columns=scaled_df.columns)\n",
    "scaled_df.head()"
   ]
  },
  {
   "cell_type": "code",
   "execution_count": null,
   "id": "309fff9d-bd0b-4406-830a-5e29dd211ea8",
   "metadata": {},
   "outputs": [],
   "source": [
    "X = scaled_df.drop('criticality_score', axis=1)\n",
    "y = scaled_df['criticality_score']"
   ]
  },
  {
   "cell_type": "code",
   "execution_count": null,
   "id": "471d710b-f67d-40ed-a499-a81b28a17d29",
   "metadata": {},
   "outputs": [],
   "source": [
    "X_train, X_test, y_train, y_test = train_test_split(\n",
    "    X, y, test_size=0.3, random_state=101)"
   ]
  },
  {
   "cell_type": "code",
   "execution_count": null,
   "id": "926e90fb-df0d-4962-8551-091977260d8f",
   "metadata": {},
   "outputs": [],
   "source": [
    "#change model to any others\n",
    "model = Lasso(alpha = 0.01)\n",
    "model.fit(X_train,y_train)"
   ]
  },
  {
   "cell_type": "code",
   "execution_count": null,
   "id": "e84faa0d-c7ee-456c-ade8-e4c128fb191f",
   "metadata": {},
   "outputs": [],
   "source": [
    "#r2 of training\n",
    "score = model.score(X_train,y_train)\n",
    "print(score)"
   ]
  },
  {
   "cell_type": "code",
   "execution_count": null,
   "id": "ddbdb25d-43bd-41ec-af22-aaf67654a687",
   "metadata": {},
   "outputs": [],
   "source": [
    "predictions = model.predict(X_test)"
   ]
  },
  {
   "cell_type": "code",
   "execution_count": null,
   "id": "c5afe57c-bb48-4c10-b40b-c08ee31b6d40",
   "metadata": {},
   "outputs": [],
   "source": [
    "print(\n",
    "  'mean_squared_error : ', mean_squared_error(y_test, predictions))\n",
    "print(\n",
    "  'mean_absolute_error : ', mean_absolute_error(y_test, predictions))"
   ]
  },
  {
   "cell_type": "code",
   "execution_count": null,
   "id": "386ca907-9293-4b8e-bfdc-feb5a071ecfe",
   "metadata": {},
   "outputs": [],
   "source": [
    "model.coef_"
   ]
  },
  {
   "cell_type": "code",
   "execution_count": null,
   "id": "693c1771-c546-4f07-bdf3-ee2d982d69f7",
   "metadata": {},
   "outputs": [],
   "source": [
    "model.intercept_"
   ]
  },
  {
   "cell_type": "code",
   "execution_count": null,
   "id": "8308a439-0ae5-4e21-a124-6fa73218bb57",
   "metadata": {},
   "outputs": [],
   "source": [
    "#test r2\n",
    "print(r2_score(y_test, predictions))"
   ]
  }
 ],
 "metadata": {
  "kernelspec": {
   "display_name": "Python 3 (ipykernel)",
   "language": "python",
   "name": "python3"
  },
  "language_info": {
   "codemirror_mode": {
    "name": "ipython",
    "version": 3
   },
   "file_extension": ".py",
   "mimetype": "text/x-python",
   "name": "python",
   "nbconvert_exporter": "python",
   "pygments_lexer": "ipython3",
   "version": "3.10.9"
  }
 },
 "nbformat": 4,
 "nbformat_minor": 5
}
