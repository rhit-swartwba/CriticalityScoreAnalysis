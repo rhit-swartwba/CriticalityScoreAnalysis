{
 "cells": [
  {
   "cell_type": "markdown",
   "id": "b7ee27aa-eebc-47ea-9ac2-d3a4236d9b97",
   "metadata": {},
   "source": [
    "Feature Selection of Criticality Score Algorithm Data \\\\\n",
    "Author: Blaise Swartwood"
   ]
  },
  {
   "cell_type": "code",
   "execution_count": 19,
   "id": "33494cae-72a5-4bd6-bc1b-ad3586e9c1c5",
   "metadata": {},
   "outputs": [],
   "source": [
    "#importing required packages\n",
    "import numpy as np\n",
    "import pandas as pd\n",
    "import seaborn as sns\n",
    "import matplotlib.pyplot as plt\n",
    "from sklearn.linear_model import LinearRegression\n",
    "from sklearn.metrics import mean_squared_error, mean_absolute_error, r2_score\n",
    "from sklearn import preprocessing, svm\n",
    "from sklearn.model_selection import train_test_split\n",
    "from sklearn.feature_selection import SelectFromModel\n",
    "from sklearn.linear_model import Lasso\n",
    "from sklearn.linear_model import ElasticNet\n",
    "from sklearn.preprocessing import StandardScaler\n",
    "from sklearn.feature_selection import RFE\n",
    "from mlxtend.feature_selection import SequentialFeatureSelector as SFS\n",
    "from sklearn.model_selection import KFold\n",
    "from mlxtend.plotting import plot_sequential_feature_selection as plot_sfs"
   ]
  },
  {
   "cell_type": "code",
   "execution_count": 20,
   "id": "52455ca4-d5f0-4b5c-bd87-0942b57385d5",
   "metadata": {},
   "outputs": [
    {
     "data": {
      "text/html": [
       "<div>\n",
       "<style scoped>\n",
       "    .dataframe tbody tr th:only-of-type {\n",
       "        vertical-align: middle;\n",
       "    }\n",
       "\n",
       "    .dataframe tbody tr th {\n",
       "        vertical-align: top;\n",
       "    }\n",
       "\n",
       "    .dataframe thead th {\n",
       "        text-align: right;\n",
       "    }\n",
       "</style>\n",
       "<table border=\"1\" class=\"dataframe\">\n",
       "  <thead>\n",
       "    <tr style=\"text-align: right;\">\n",
       "      <th></th>\n",
       "      <th>created_since</th>\n",
       "      <th>updated_since</th>\n",
       "      <th>contributor_count</th>\n",
       "      <th>org_count</th>\n",
       "      <th>commit_frequency</th>\n",
       "      <th>recent_release_count</th>\n",
       "      <th>updated_issues_count</th>\n",
       "      <th>closed_issues_count</th>\n",
       "      <th>issue_comment_frequency</th>\n",
       "      <th>github_mention_count</th>\n",
       "      <th>criticality_score</th>\n",
       "    </tr>\n",
       "  </thead>\n",
       "  <tbody>\n",
       "    <tr>\n",
       "      <th>0</th>\n",
       "      <td>131</td>\n",
       "      <td>0</td>\n",
       "      <td>5000</td>\n",
       "      <td>10</td>\n",
       "      <td>1555.33</td>\n",
       "      <td>69</td>\n",
       "      <td>552</td>\n",
       "      <td>266</td>\n",
       "      <td>3.18</td>\n",
       "      <td>57193965</td>\n",
       "      <td>0.92520</td>\n",
       "    </tr>\n",
       "    <tr>\n",
       "      <th>1</th>\n",
       "      <td>209</td>\n",
       "      <td>0</td>\n",
       "      <td>2044</td>\n",
       "      <td>5</td>\n",
       "      <td>70.83</td>\n",
       "      <td>49</td>\n",
       "      <td>896</td>\n",
       "      <td>806</td>\n",
       "      <td>13.15</td>\n",
       "      <td>36120246</td>\n",
       "      <td>0.89559</td>\n",
       "    </tr>\n",
       "    <tr>\n",
       "      <th>2</th>\n",
       "      <td>162</td>\n",
       "      <td>0</td>\n",
       "      <td>3472</td>\n",
       "      <td>9</td>\n",
       "      <td>48.37</td>\n",
       "      <td>67</td>\n",
       "      <td>36122</td>\n",
       "      <td>34479</td>\n",
       "      <td>2.00</td>\n",
       "      <td>1168604</td>\n",
       "      <td>0.88907</td>\n",
       "    </tr>\n",
       "    <tr>\n",
       "      <th>3</th>\n",
       "      <td>97</td>\n",
       "      <td>0</td>\n",
       "      <td>4367</td>\n",
       "      <td>5</td>\n",
       "      <td>138.08</td>\n",
       "      <td>65</td>\n",
       "      <td>86352</td>\n",
       "      <td>84020</td>\n",
       "      <td>2.00</td>\n",
       "      <td>529999</td>\n",
       "      <td>0.88400</td>\n",
       "    </tr>\n",
       "    <tr>\n",
       "      <th>4</th>\n",
       "      <td>151</td>\n",
       "      <td>0</td>\n",
       "      <td>3579</td>\n",
       "      <td>13</td>\n",
       "      <td>104.13</td>\n",
       "      <td>69</td>\n",
       "      <td>27449</td>\n",
       "      <td>26723</td>\n",
       "      <td>2.00</td>\n",
       "      <td>88134</td>\n",
       "      <td>0.87876</td>\n",
       "    </tr>\n",
       "  </tbody>\n",
       "</table>\n",
       "</div>"
      ],
      "text/plain": [
       "   created_since  updated_since  contributor_count  org_count  \\\n",
       "0            131              0               5000         10   \n",
       "1            209              0               2044          5   \n",
       "2            162              0               3472          9   \n",
       "3             97              0               4367          5   \n",
       "4            151              0               3579         13   \n",
       "\n",
       "   commit_frequency  recent_release_count  updated_issues_count  \\\n",
       "0           1555.33                    69                   552   \n",
       "1             70.83                    49                   896   \n",
       "2             48.37                    67                 36122   \n",
       "3            138.08                    65                 86352   \n",
       "4            104.13                    69                 27449   \n",
       "\n",
       "   closed_issues_count  issue_comment_frequency  github_mention_count  \\\n",
       "0                  266                     3.18              57193965   \n",
       "1                  806                    13.15              36120246   \n",
       "2                34479                     2.00               1168604   \n",
       "3                84020                     2.00                529999   \n",
       "4                26723                     2.00                 88134   \n",
       "\n",
       "   criticality_score  \n",
       "0            0.92520  \n",
       "1            0.89559  \n",
       "2            0.88907  \n",
       "3            0.88400  \n",
       "4            0.87876  "
      ]
     },
     "execution_count": 20,
     "metadata": {},
     "output_type": "execute_result"
    }
   ],
   "source": [
    "#accessing data file\n",
    "df = pd.read_csv('CSDataAsCSV.csv', usecols=[i for i in range(6, 18) if i != 16])\n",
    "df.head()"
   ]
  },
  {
   "cell_type": "code",
   "execution_count": 21,
   "id": "3576a90c-1c0d-48bf-8526-760e54b0799e",
   "metadata": {},
   "outputs": [
    {
     "data": {
      "text/html": [
       "<div>\n",
       "<style scoped>\n",
       "    .dataframe tbody tr th:only-of-type {\n",
       "        vertical-align: middle;\n",
       "    }\n",
       "\n",
       "    .dataframe tbody tr th {\n",
       "        vertical-align: top;\n",
       "    }\n",
       "\n",
       "    .dataframe thead th {\n",
       "        text-align: right;\n",
       "    }\n",
       "</style>\n",
       "<table border=\"1\" class=\"dataframe\">\n",
       "  <thead>\n",
       "    <tr style=\"text-align: right;\">\n",
       "      <th></th>\n",
       "      <th>created_since</th>\n",
       "      <th>updated_since</th>\n",
       "      <th>contributor_count</th>\n",
       "      <th>org_count</th>\n",
       "      <th>commit_frequency</th>\n",
       "      <th>recent_release_count</th>\n",
       "      <th>updated_issues_count</th>\n",
       "      <th>closed_issues_count</th>\n",
       "      <th>issue_comment_frequency</th>\n",
       "      <th>github_mention_count</th>\n",
       "      <th>criticality_score</th>\n",
       "    </tr>\n",
       "  </thead>\n",
       "  <tbody>\n",
       "    <tr>\n",
       "      <th>0</th>\n",
       "      <td>1.569323</td>\n",
       "      <td>-0.552789</td>\n",
       "      <td>38.878494</td>\n",
       "      <td>3.925732</td>\n",
       "      <td>92.450841</td>\n",
       "      <td>1.681014</td>\n",
       "      <td>0.600905</td>\n",
       "      <td>0.262709</td>\n",
       "      <td>1.326020</td>\n",
       "      <td>725.868715</td>\n",
       "      <td>6.288175</td>\n",
       "    </tr>\n",
       "    <tr>\n",
       "      <th>1</th>\n",
       "      <td>3.512865</td>\n",
       "      <td>-0.552789</td>\n",
       "      <td>15.831261</td>\n",
       "      <td>1.566135</td>\n",
       "      <td>4.164546</td>\n",
       "      <td>1.178037</td>\n",
       "      <td>1.042876</td>\n",
       "      <td>0.999320</td>\n",
       "      <td>7.838074</td>\n",
       "      <td>458.413532</td>\n",
       "      <td>5.992633</td>\n",
       "    </tr>\n",
       "    <tr>\n",
       "      <th>2</th>\n",
       "      <td>2.341756</td>\n",
       "      <td>-0.552789</td>\n",
       "      <td>26.965039</td>\n",
       "      <td>3.453812</td>\n",
       "      <td>2.828804</td>\n",
       "      <td>1.630716</td>\n",
       "      <td>46.301216</td>\n",
       "      <td>46.932421</td>\n",
       "      <td>0.555285</td>\n",
       "      <td>14.827953</td>\n",
       "      <td>5.927555</td>\n",
       "    </tr>\n",
       "    <tr>\n",
       "      <th>3</th>\n",
       "      <td>0.722138</td>\n",
       "      <td>-0.552789</td>\n",
       "      <td>33.943142</td>\n",
       "      <td>1.566135</td>\n",
       "      <td>8.164043</td>\n",
       "      <td>1.580418</td>\n",
       "      <td>110.836684</td>\n",
       "      <td>114.510949</td>\n",
       "      <td>0.555285</td>\n",
       "      <td>6.723156</td>\n",
       "      <td>5.876951</td>\n",
       "    </tr>\n",
       "    <tr>\n",
       "      <th>4</th>\n",
       "      <td>2.067667</td>\n",
       "      <td>-0.552789</td>\n",
       "      <td>27.799293</td>\n",
       "      <td>5.341490</td>\n",
       "      <td>6.144966</td>\n",
       "      <td>1.681014</td>\n",
       "      <td>35.158151</td>\n",
       "      <td>36.352516</td>\n",
       "      <td>0.555285</td>\n",
       "      <td>1.115267</td>\n",
       "      <td>5.824650</td>\n",
       "    </tr>\n",
       "  </tbody>\n",
       "</table>\n",
       "</div>"
      ],
      "text/plain": [
       "   created_since  updated_since  contributor_count  org_count  \\\n",
       "0       1.569323      -0.552789          38.878494   3.925732   \n",
       "1       3.512865      -0.552789          15.831261   1.566135   \n",
       "2       2.341756      -0.552789          26.965039   3.453812   \n",
       "3       0.722138      -0.552789          33.943142   1.566135   \n",
       "4       2.067667      -0.552789          27.799293   5.341490   \n",
       "\n",
       "   commit_frequency  recent_release_count  updated_issues_count  \\\n",
       "0         92.450841              1.681014              0.600905   \n",
       "1          4.164546              1.178037              1.042876   \n",
       "2          2.828804              1.630716             46.301216   \n",
       "3          8.164043              1.580418            110.836684   \n",
       "4          6.144966              1.681014             35.158151   \n",
       "\n",
       "   closed_issues_count  issue_comment_frequency  github_mention_count  \\\n",
       "0             0.262709                 1.326020            725.868715   \n",
       "1             0.999320                 7.838074            458.413532   \n",
       "2            46.932421                 0.555285             14.827953   \n",
       "3           114.510949                 0.555285              6.723156   \n",
       "4            36.352516                 0.555285              1.115267   \n",
       "\n",
       "   criticality_score  \n",
       "0           6.288175  \n",
       "1           5.992633  \n",
       "2           5.927555  \n",
       "3           5.876951  \n",
       "4           5.824650  "
      ]
     },
     "execution_count": 21,
     "metadata": {},
     "output_type": "execute_result"
    }
   ],
   "source": [
    "#scaling the data\n",
    "scaler = StandardScaler()\n",
    "scaled_df=df.copy()\n",
    "scaled_df=pd.DataFrame(scaler.fit_transform(scaled_df), columns=scaled_df.columns)\n",
    "scaled_df.head()"
   ]
  },
  {
   "cell_type": "code",
   "execution_count": 22,
   "id": "309fff9d-bd0b-4406-830a-5e29dd211ea8",
   "metadata": {},
   "outputs": [],
   "source": [
    "#separating features and criticality score\n",
    "X = scaled_df.drop('criticality_score', axis=1)\n",
    "y = scaled_df['criticality_score']"
   ]
  },
  {
   "cell_type": "code",
   "execution_count": 23,
   "id": "471d710b-f67d-40ed-a499-a81b28a17d29",
   "metadata": {},
   "outputs": [],
   "source": [
    "#splitting training vs test data\n",
    "X_train, X_test, y_train, y_test = train_test_split(\n",
    "    X, y, test_size=0.3, random_state=101)"
   ]
  },
  {
   "cell_type": "markdown",
   "id": "ec474053-8c9d-4ce1-9669-c97dd0b38b81",
   "metadata": {},
   "source": [
    "\n",
    "\n",
    "\n",
    "\n",
    "\n",
    "\n",
    "\n",
    "\n",
    "1) SELECT FROM MODEL\n",
    "\n",
    "\n",
    "\n",
    "\n",
    "\n",
    "\n",
    "\n"
   ]
  },
  {
   "cell_type": "code",
   "execution_count": 24,
   "id": "926e90fb-df0d-4962-8551-091977260d8f",
   "metadata": {},
   "outputs": [
    {
     "data": {
      "text/html": [
       "<style>#sk-container-id-2 {color: black;background-color: white;}#sk-container-id-2 pre{padding: 0;}#sk-container-id-2 div.sk-toggleable {background-color: white;}#sk-container-id-2 label.sk-toggleable__label {cursor: pointer;display: block;width: 100%;margin-bottom: 0;padding: 0.3em;box-sizing: border-box;text-align: center;}#sk-container-id-2 label.sk-toggleable__label-arrow:before {content: \"▸\";float: left;margin-right: 0.25em;color: #696969;}#sk-container-id-2 label.sk-toggleable__label-arrow:hover:before {color: black;}#sk-container-id-2 div.sk-estimator:hover label.sk-toggleable__label-arrow:before {color: black;}#sk-container-id-2 div.sk-toggleable__content {max-height: 0;max-width: 0;overflow: hidden;text-align: left;background-color: #f0f8ff;}#sk-container-id-2 div.sk-toggleable__content pre {margin: 0.2em;color: black;border-radius: 0.25em;background-color: #f0f8ff;}#sk-container-id-2 input.sk-toggleable__control:checked~div.sk-toggleable__content {max-height: 200px;max-width: 100%;overflow: auto;}#sk-container-id-2 input.sk-toggleable__control:checked~label.sk-toggleable__label-arrow:before {content: \"▾\";}#sk-container-id-2 div.sk-estimator input.sk-toggleable__control:checked~label.sk-toggleable__label {background-color: #d4ebff;}#sk-container-id-2 div.sk-label input.sk-toggleable__control:checked~label.sk-toggleable__label {background-color: #d4ebff;}#sk-container-id-2 input.sk-hidden--visually {border: 0;clip: rect(1px 1px 1px 1px);clip: rect(1px, 1px, 1px, 1px);height: 1px;margin: -1px;overflow: hidden;padding: 0;position: absolute;width: 1px;}#sk-container-id-2 div.sk-estimator {font-family: monospace;background-color: #f0f8ff;border: 1px dotted black;border-radius: 0.25em;box-sizing: border-box;margin-bottom: 0.5em;}#sk-container-id-2 div.sk-estimator:hover {background-color: #d4ebff;}#sk-container-id-2 div.sk-parallel-item::after {content: \"\";width: 100%;border-bottom: 1px solid gray;flex-grow: 1;}#sk-container-id-2 div.sk-label:hover label.sk-toggleable__label {background-color: #d4ebff;}#sk-container-id-2 div.sk-serial::before {content: \"\";position: absolute;border-left: 1px solid gray;box-sizing: border-box;top: 0;bottom: 0;left: 50%;z-index: 0;}#sk-container-id-2 div.sk-serial {display: flex;flex-direction: column;align-items: center;background-color: white;padding-right: 0.2em;padding-left: 0.2em;position: relative;}#sk-container-id-2 div.sk-item {position: relative;z-index: 1;}#sk-container-id-2 div.sk-parallel {display: flex;align-items: stretch;justify-content: center;background-color: white;position: relative;}#sk-container-id-2 div.sk-item::before, #sk-container-id-2 div.sk-parallel-item::before {content: \"\";position: absolute;border-left: 1px solid gray;box-sizing: border-box;top: 0;bottom: 0;left: 50%;z-index: -1;}#sk-container-id-2 div.sk-parallel-item {display: flex;flex-direction: column;z-index: 1;position: relative;background-color: white;}#sk-container-id-2 div.sk-parallel-item:first-child::after {align-self: flex-end;width: 50%;}#sk-container-id-2 div.sk-parallel-item:last-child::after {align-self: flex-start;width: 50%;}#sk-container-id-2 div.sk-parallel-item:only-child::after {width: 0;}#sk-container-id-2 div.sk-dashed-wrapped {border: 1px dashed gray;margin: 0 0.4em 0.5em 0.4em;box-sizing: border-box;padding-bottom: 0.4em;background-color: white;}#sk-container-id-2 div.sk-label label {font-family: monospace;font-weight: bold;display: inline-block;line-height: 1.2em;}#sk-container-id-2 div.sk-label-container {text-align: center;}#sk-container-id-2 div.sk-container {/* jupyter's `normalize.less` sets `[hidden] { display: none; }` but bootstrap.min.css set `[hidden] { display: none !important; }` so we also need the `!important` here to be able to override the default hidden behavior on the sphinx rendered scikit-learn.org. See: https://github.com/scikit-learn/scikit-learn/issues/21755 */display: inline-block !important;position: relative;}#sk-container-id-2 div.sk-text-repr-fallback {display: none;}</style><div id=\"sk-container-id-2\" class=\"sk-top-container\"><div class=\"sk-text-repr-fallback\"><pre>SelectFromModel(estimator=Lasso(alpha=0.1))</pre><b>In a Jupyter environment, please rerun this cell to show the HTML representation or trust the notebook. <br />On GitHub, the HTML representation is unable to render, please try loading this page with nbviewer.org.</b></div><div class=\"sk-container\" hidden><div class=\"sk-item sk-dashed-wrapped\"><div class=\"sk-label-container\"><div class=\"sk-label sk-toggleable\"><input class=\"sk-toggleable__control sk-hidden--visually\" id=\"sk-estimator-id-4\" type=\"checkbox\" ><label for=\"sk-estimator-id-4\" class=\"sk-toggleable__label sk-toggleable__label-arrow\">SelectFromModel</label><div class=\"sk-toggleable__content\"><pre>SelectFromModel(estimator=Lasso(alpha=0.1))</pre></div></div></div><div class=\"sk-parallel\"><div class=\"sk-parallel-item\"><div class=\"sk-item\"><div class=\"sk-label-container\"><div class=\"sk-label sk-toggleable\"><input class=\"sk-toggleable__control sk-hidden--visually\" id=\"sk-estimator-id-5\" type=\"checkbox\" ><label for=\"sk-estimator-id-5\" class=\"sk-toggleable__label sk-toggleable__label-arrow\">estimator: Lasso</label><div class=\"sk-toggleable__content\"><pre>Lasso(alpha=0.1)</pre></div></div></div><div class=\"sk-serial\"><div class=\"sk-item\"><div class=\"sk-estimator sk-toggleable\"><input class=\"sk-toggleable__control sk-hidden--visually\" id=\"sk-estimator-id-6\" type=\"checkbox\" ><label for=\"sk-estimator-id-6\" class=\"sk-toggleable__label sk-toggleable__label-arrow\">Lasso</label><div class=\"sk-toggleable__content\"><pre>Lasso(alpha=0.1)</pre></div></div></div></div></div></div></div></div></div></div>"
      ],
      "text/plain": [
       "SelectFromModel(estimator=Lasso(alpha=0.1))"
      ]
     },
     "execution_count": 24,
     "metadata": {},
     "output_type": "execute_result"
    }
   ],
   "source": [
    "#building and training the model\n",
    "estimator = Lasso(alpha = 0.1)\n",
    "featureSelection = SelectFromModel(estimator)\n",
    "featureSelection.fit(X, y)"
   ]
  },
  {
   "cell_type": "code",
   "execution_count": 25,
   "id": "ddbdb25d-43bd-41ec-af22-aaf67654a687",
   "metadata": {},
   "outputs": [
    {
     "data": {
      "text/plain": [
       "Index(['updated_since', 'org_count', 'updated_issues_count',\n",
       "       'issue_comment_frequency'],\n",
       "      dtype='object')"
      ]
     },
     "execution_count": 25,
     "metadata": {},
     "output_type": "execute_result"
    }
   ],
   "source": [
    "#obtaining the selected features\n",
    "selectedFeatures = featureSelection.transform(X)\n",
    "X.columns[featureSelection.get_support()]"
   ]
  },
  {
   "cell_type": "markdown",
   "id": "330e2548-fa35-42be-8bb5-ef2753c4f20c",
   "metadata": {},
   "source": [
    "\n",
    "\n",
    "\n",
    "\n",
    "\n",
    "\n",
    "\n",
    "2) RECURSIVE FEATURE SELECTION\n",
    "\n",
    "\n",
    "\n",
    "\n",
    "\n",
    "\n"
   ]
  },
  {
   "cell_type": "code",
   "execution_count": 26,
   "id": "232f60d4-e4e6-41e6-9bca-7caecbebe7fb",
   "metadata": {},
   "outputs": [
    {
     "data": {
      "text/html": [
       "<style>#sk-container-id-3 {color: black;background-color: white;}#sk-container-id-3 pre{padding: 0;}#sk-container-id-3 div.sk-toggleable {background-color: white;}#sk-container-id-3 label.sk-toggleable__label {cursor: pointer;display: block;width: 100%;margin-bottom: 0;padding: 0.3em;box-sizing: border-box;text-align: center;}#sk-container-id-3 label.sk-toggleable__label-arrow:before {content: \"▸\";float: left;margin-right: 0.25em;color: #696969;}#sk-container-id-3 label.sk-toggleable__label-arrow:hover:before {color: black;}#sk-container-id-3 div.sk-estimator:hover label.sk-toggleable__label-arrow:before {color: black;}#sk-container-id-3 div.sk-toggleable__content {max-height: 0;max-width: 0;overflow: hidden;text-align: left;background-color: #f0f8ff;}#sk-container-id-3 div.sk-toggleable__content pre {margin: 0.2em;color: black;border-radius: 0.25em;background-color: #f0f8ff;}#sk-container-id-3 input.sk-toggleable__control:checked~div.sk-toggleable__content {max-height: 200px;max-width: 100%;overflow: auto;}#sk-container-id-3 input.sk-toggleable__control:checked~label.sk-toggleable__label-arrow:before {content: \"▾\";}#sk-container-id-3 div.sk-estimator input.sk-toggleable__control:checked~label.sk-toggleable__label {background-color: #d4ebff;}#sk-container-id-3 div.sk-label input.sk-toggleable__control:checked~label.sk-toggleable__label {background-color: #d4ebff;}#sk-container-id-3 input.sk-hidden--visually {border: 0;clip: rect(1px 1px 1px 1px);clip: rect(1px, 1px, 1px, 1px);height: 1px;margin: -1px;overflow: hidden;padding: 0;position: absolute;width: 1px;}#sk-container-id-3 div.sk-estimator {font-family: monospace;background-color: #f0f8ff;border: 1px dotted black;border-radius: 0.25em;box-sizing: border-box;margin-bottom: 0.5em;}#sk-container-id-3 div.sk-estimator:hover {background-color: #d4ebff;}#sk-container-id-3 div.sk-parallel-item::after {content: \"\";width: 100%;border-bottom: 1px solid gray;flex-grow: 1;}#sk-container-id-3 div.sk-label:hover label.sk-toggleable__label {background-color: #d4ebff;}#sk-container-id-3 div.sk-serial::before {content: \"\";position: absolute;border-left: 1px solid gray;box-sizing: border-box;top: 0;bottom: 0;left: 50%;z-index: 0;}#sk-container-id-3 div.sk-serial {display: flex;flex-direction: column;align-items: center;background-color: white;padding-right: 0.2em;padding-left: 0.2em;position: relative;}#sk-container-id-3 div.sk-item {position: relative;z-index: 1;}#sk-container-id-3 div.sk-parallel {display: flex;align-items: stretch;justify-content: center;background-color: white;position: relative;}#sk-container-id-3 div.sk-item::before, #sk-container-id-3 div.sk-parallel-item::before {content: \"\";position: absolute;border-left: 1px solid gray;box-sizing: border-box;top: 0;bottom: 0;left: 50%;z-index: -1;}#sk-container-id-3 div.sk-parallel-item {display: flex;flex-direction: column;z-index: 1;position: relative;background-color: white;}#sk-container-id-3 div.sk-parallel-item:first-child::after {align-self: flex-end;width: 50%;}#sk-container-id-3 div.sk-parallel-item:last-child::after {align-self: flex-start;width: 50%;}#sk-container-id-3 div.sk-parallel-item:only-child::after {width: 0;}#sk-container-id-3 div.sk-dashed-wrapped {border: 1px dashed gray;margin: 0 0.4em 0.5em 0.4em;box-sizing: border-box;padding-bottom: 0.4em;background-color: white;}#sk-container-id-3 div.sk-label label {font-family: monospace;font-weight: bold;display: inline-block;line-height: 1.2em;}#sk-container-id-3 div.sk-label-container {text-align: center;}#sk-container-id-3 div.sk-container {/* jupyter's `normalize.less` sets `[hidden] { display: none; }` but bootstrap.min.css set `[hidden] { display: none !important; }` so we also need the `!important` here to be able to override the default hidden behavior on the sphinx rendered scikit-learn.org. See: https://github.com/scikit-learn/scikit-learn/issues/21755 */display: inline-block !important;position: relative;}#sk-container-id-3 div.sk-text-repr-fallback {display: none;}</style><div id=\"sk-container-id-3\" class=\"sk-top-container\"><div class=\"sk-text-repr-fallback\"><pre>RFE(estimator=ElasticNet(alpha=0.01))</pre><b>In a Jupyter environment, please rerun this cell to show the HTML representation or trust the notebook. <br />On GitHub, the HTML representation is unable to render, please try loading this page with nbviewer.org.</b></div><div class=\"sk-container\" hidden><div class=\"sk-item sk-dashed-wrapped\"><div class=\"sk-label-container\"><div class=\"sk-label sk-toggleable\"><input class=\"sk-toggleable__control sk-hidden--visually\" id=\"sk-estimator-id-7\" type=\"checkbox\" ><label for=\"sk-estimator-id-7\" class=\"sk-toggleable__label sk-toggleable__label-arrow\">RFE</label><div class=\"sk-toggleable__content\"><pre>RFE(estimator=ElasticNet(alpha=0.01))</pre></div></div></div><div class=\"sk-parallel\"><div class=\"sk-parallel-item\"><div class=\"sk-item\"><div class=\"sk-label-container\"><div class=\"sk-label sk-toggleable\"><input class=\"sk-toggleable__control sk-hidden--visually\" id=\"sk-estimator-id-8\" type=\"checkbox\" ><label for=\"sk-estimator-id-8\" class=\"sk-toggleable__label sk-toggleable__label-arrow\">estimator: ElasticNet</label><div class=\"sk-toggleable__content\"><pre>ElasticNet(alpha=0.01)</pre></div></div></div><div class=\"sk-serial\"><div class=\"sk-item\"><div class=\"sk-estimator sk-toggleable\"><input class=\"sk-toggleable__control sk-hidden--visually\" id=\"sk-estimator-id-9\" type=\"checkbox\" ><label for=\"sk-estimator-id-9\" class=\"sk-toggleable__label sk-toggleable__label-arrow\">ElasticNet</label><div class=\"sk-toggleable__content\"><pre>ElasticNet(alpha=0.01)</pre></div></div></div></div></div></div></div></div></div></div>"
      ],
      "text/plain": [
       "RFE(estimator=ElasticNet(alpha=0.01))"
      ]
     },
     "execution_count": 26,
     "metadata": {},
     "output_type": "execute_result"
    }
   ],
   "source": [
    "#building and training the model\n",
    "model = ElasticNet(alpha = 0.01)\n",
    "rfe = RFE(model)\n",
    "rfe.fit(X_train, y_train)"
   ]
  },
  {
   "cell_type": "code",
   "execution_count": 27,
   "id": "daf0c52d-6aa0-4b64-9f13-e5a249086699",
   "metadata": {},
   "outputs": [
    {
     "name": "stdout",
     "output_type": "stream",
     "text": [
      "The selected features are:  [ True  True False  True False False  True False  True False]\n",
      "The relative ranking of features is:  [1 1 3 1 4 2 1 6 1 5]\n",
      "The test score of the data is:  0.7104279892338332\n"
     ]
    }
   ],
   "source": [
    "print('The selected features are: ', rfe.support_)\n",
    "print('The relative ranking of features is: ', rfe.ranking_)\n",
    "print('The test score of the data is: ', rfe.score(X_test, y_test))"
   ]
  },
  {
   "cell_type": "code",
   "execution_count": 28,
   "id": "0d3730e9-0148-4ac4-92fd-2944c7c1d38c",
   "metadata": {},
   "outputs": [
    {
     "data": {
      "text/html": [
       "<div>\n",
       "<style scoped>\n",
       "    .dataframe tbody tr th:only-of-type {\n",
       "        vertical-align: middle;\n",
       "    }\n",
       "\n",
       "    .dataframe tbody tr th {\n",
       "        vertical-align: top;\n",
       "    }\n",
       "\n",
       "    .dataframe thead th {\n",
       "        text-align: right;\n",
       "    }\n",
       "</style>\n",
       "<table border=\"1\" class=\"dataframe\">\n",
       "  <thead>\n",
       "    <tr style=\"text-align: right;\">\n",
       "      <th></th>\n",
       "      <th>Necessary Feature</th>\n",
       "    </tr>\n",
       "  </thead>\n",
       "  <tbody>\n",
       "    <tr>\n",
       "      <th>created_since</th>\n",
       "      <td>True</td>\n",
       "    </tr>\n",
       "    <tr>\n",
       "      <th>updated_since</th>\n",
       "      <td>True</td>\n",
       "    </tr>\n",
       "    <tr>\n",
       "      <th>contributor_count</th>\n",
       "      <td>False</td>\n",
       "    </tr>\n",
       "    <tr>\n",
       "      <th>org_count</th>\n",
       "      <td>True</td>\n",
       "    </tr>\n",
       "    <tr>\n",
       "      <th>commit_frequency</th>\n",
       "      <td>False</td>\n",
       "    </tr>\n",
       "    <tr>\n",
       "      <th>recent_release_count</th>\n",
       "      <td>False</td>\n",
       "    </tr>\n",
       "    <tr>\n",
       "      <th>updated_issues_count</th>\n",
       "      <td>True</td>\n",
       "    </tr>\n",
       "    <tr>\n",
       "      <th>closed_issues_count</th>\n",
       "      <td>False</td>\n",
       "    </tr>\n",
       "    <tr>\n",
       "      <th>issue_comment_frequency</th>\n",
       "      <td>True</td>\n",
       "    </tr>\n",
       "    <tr>\n",
       "      <th>github_mention_count</th>\n",
       "      <td>False</td>\n",
       "    </tr>\n",
       "  </tbody>\n",
       "</table>\n",
       "</div>"
      ],
      "text/plain": [
       "                         Necessary Feature\n",
       "created_since                         True\n",
       "updated_since                         True\n",
       "contributor_count                    False\n",
       "org_count                             True\n",
       "commit_frequency                     False\n",
       "recent_release_count                 False\n",
       "updated_issues_count                  True\n",
       "closed_issues_count                  False\n",
       "issue_comment_frequency               True\n",
       "github_mention_count                 False"
      ]
     },
     "execution_count": 28,
     "metadata": {},
     "output_type": "execute_result"
    }
   ],
   "source": [
    "#display important features nicely\n",
    "pd.DataFrame(rfe.support_,index=X.columns,columns=[\"Necessary Feature\"])"
   ]
  },
  {
   "cell_type": "code",
   "execution_count": 29,
   "id": "6e7690e9-01c7-4546-b4a6-14a2d9167189",
   "metadata": {},
   "outputs": [
    {
     "data": {
      "text/html": [
       "<div>\n",
       "<style scoped>\n",
       "    .dataframe tbody tr th:only-of-type {\n",
       "        vertical-align: middle;\n",
       "    }\n",
       "\n",
       "    .dataframe tbody tr th {\n",
       "        vertical-align: top;\n",
       "    }\n",
       "\n",
       "    .dataframe thead th {\n",
       "        text-align: right;\n",
       "    }\n",
       "</style>\n",
       "<table border=\"1\" class=\"dataframe\">\n",
       "  <thead>\n",
       "    <tr style=\"text-align: right;\">\n",
       "      <th></th>\n",
       "      <th>Relative Importance Ranking</th>\n",
       "    </tr>\n",
       "  </thead>\n",
       "  <tbody>\n",
       "    <tr>\n",
       "      <th>created_since</th>\n",
       "      <td>1</td>\n",
       "    </tr>\n",
       "    <tr>\n",
       "      <th>updated_since</th>\n",
       "      <td>1</td>\n",
       "    </tr>\n",
       "    <tr>\n",
       "      <th>contributor_count</th>\n",
       "      <td>3</td>\n",
       "    </tr>\n",
       "    <tr>\n",
       "      <th>org_count</th>\n",
       "      <td>1</td>\n",
       "    </tr>\n",
       "    <tr>\n",
       "      <th>commit_frequency</th>\n",
       "      <td>4</td>\n",
       "    </tr>\n",
       "    <tr>\n",
       "      <th>recent_release_count</th>\n",
       "      <td>2</td>\n",
       "    </tr>\n",
       "    <tr>\n",
       "      <th>updated_issues_count</th>\n",
       "      <td>1</td>\n",
       "    </tr>\n",
       "    <tr>\n",
       "      <th>closed_issues_count</th>\n",
       "      <td>6</td>\n",
       "    </tr>\n",
       "    <tr>\n",
       "      <th>issue_comment_frequency</th>\n",
       "      <td>1</td>\n",
       "    </tr>\n",
       "    <tr>\n",
       "      <th>github_mention_count</th>\n",
       "      <td>5</td>\n",
       "    </tr>\n",
       "  </tbody>\n",
       "</table>\n",
       "</div>"
      ],
      "text/plain": [
       "                         Relative Importance Ranking\n",
       "created_since                                      1\n",
       "updated_since                                      1\n",
       "contributor_count                                  3\n",
       "org_count                                          1\n",
       "commit_frequency                                   4\n",
       "recent_release_count                               2\n",
       "updated_issues_count                               1\n",
       "closed_issues_count                                6\n",
       "issue_comment_frequency                            1\n",
       "github_mention_count                               5"
      ]
     },
     "execution_count": 29,
     "metadata": {},
     "output_type": "execute_result"
    }
   ],
   "source": [
    "#Display relative importance of features nicely\n",
    "pd.DataFrame(rfe.ranking_,index=X.columns,columns=[\"Relative Importance Ranking\"])"
   ]
  },
  {
   "cell_type": "markdown",
   "id": "27b45ffb-9ef4-4227-b05e-d1cc870a8e3e",
   "metadata": {},
   "source": [
    "\n",
    "\n",
    "\n",
    "\n",
    "\n",
    "\n",
    "\n",
    "\n",
    "\n",
    "3) Sequential Forward Floating Selection\n",
    "\n",
    "\n",
    "\n",
    "\n",
    "\n",
    "\n",
    "\n",
    "\n"
   ]
  },
  {
   "cell_type": "code",
   "execution_count": 30,
   "id": "69cb9de7-fc54-4bbb-b510-59755b002628",
   "metadata": {},
   "outputs": [],
   "source": [
    "#building and training the model\n",
    "en = ElasticNet(alpha = 0.1)\n",
    "\n",
    "sfs = SFS(en, \n",
    "          k_features=5, \n",
    "          forward=True, \n",
    "          floating=True, \n",
    "          scoring='r2',\n",
    "          cv = KFold(n_splits=5, shuffle=True))\n",
    "\n",
    "sfs = sfs.fit(X, y)"
   ]
  },
  {
   "cell_type": "code",
   "execution_count": 31,
   "id": "ad3f586f-0586-48a0-aa25-510294d780b1",
   "metadata": {},
   "outputs": [
    {
     "name": "stdout",
     "output_type": "stream",
     "text": [
      "\n",
      "Sequential Forward Floating Selection (k=5):\n",
      "(1, 2, 3, 6, 8)\n",
      "CV Score:\n",
      "0.7085979633164465\n"
     ]
    }
   ],
   "source": [
    "#printing important features\n",
    "print('\\nSequential Forward Floating Selection (k=5):')\n",
    "print(sfs.k_feature_idx_)\n",
    "print('CV Score:')\n",
    "print(sfs.k_score_)"
   ]
  },
  {
   "cell_type": "code",
   "execution_count": 32,
   "id": "5cfd8323-3257-473c-9751-ecf83db5921c",
   "metadata": {},
   "outputs": [
    {
     "data": {
      "image/png": "[encoded data removed]",
      "text/plain": [
       "<Figure size 640x480 with 1 Axes>"
      ]
     },
     "metadata": {},
     "output_type": "display_data"
    }
   ],
   "source": [
    "#plotting performance against number of features\n",
    "fig = plot_sfs(sfs.get_metric_dict(), kind='std_err')\n",
    "\n",
    "plt.title('Sequential Forward Selection (w. StdErr)')\n",
    "plt.grid()\n",
    "plt.show()"
   ]
  },
  {
   "cell_type": "markdown",
   "id": "8075a54c-b6f3-4b41-b760-c7466b7fe78b",
   "metadata": {},
   "source": [
    " \n",
    " \n",
    " \n",
    " \n",
    " \n",
    " \n",
    " \n",
    " \n",
    " \n",
    " \n",
    " 4) Sequential Backward Floating Selection:\n",
    " \n",
    " \n",
    " \n",
    " \n",
    " \n",
    " \n",
    " \n",
    " \n",
    " "
   ]
  },
  {
   "cell_type": "code",
   "execution_count": 33,
   "id": "03063905-c1ad-43f5-b703-f0274cd7385b",
   "metadata": {},
   "outputs": [],
   "source": [
    "#building and training the model\n",
    "en = ElasticNet(alpha=0.1)\n",
    "\n",
    "sfs2 = SFS(en, \n",
    "          k_features=5, \n",
    "          forward=False, \n",
    "          floating=True, \n",
    "          scoring='r2',\n",
    "          cv = KFold(n_splits=5, shuffle=True))\n",
    "\n",
    "sfs2 = sfs2.fit(X, y)"
   ]
  },
  {
   "cell_type": "code",
   "execution_count": 34,
   "id": "44bb52bf-c319-4c09-a9c5-caf50029dc76",
   "metadata": {},
   "outputs": [
    {
     "name": "stdout",
     "output_type": "stream",
     "text": [
      "\n",
      "Sequential Backward Floating Selection (k=5):\n",
      "(1, 2, 3, 6, 8)\n",
      "CV Score:\n",
      "0.7087519400188521\n"
     ]
    }
   ],
   "source": [
    "#printing important features\n",
    "print('\\nSequential Backward Floating Selection (k=5):')\n",
    "print(sfs2.k_feature_idx_)\n",
    "print('CV Score:')\n",
    "print(sfs2.k_score_)"
   ]
  }
 ],
 "metadata": {
  "kernelspec": {
   "display_name": "Python 3 (ipykernel)",
   "language": "python",
   "name": "python3"
  },
  "language_info": {
   "codemirror_mode": {
    "name": "ipython",
    "version": 3
   },
   "file_extension": ".py",
   "mimetype": "text/x-python",
   "name": "python",
   "nbconvert_exporter": "python",
   "pygments_lexer": "ipython3",
   "version": "3.10.9"
  }
 },
 "nbformat": 4,
 "nbformat_minor": 5
}
