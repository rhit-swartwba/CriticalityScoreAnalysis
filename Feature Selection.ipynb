{
 "cells": [
  {
   "cell_type": "code",
   "execution_count": null,
   "id": "33494cae-72a5-4bd6-bc1b-ad3586e9c1c5",
   "metadata": {},
   "outputs": [],
   "source": [
    "import numpy as np\n",
    "import pandas as pd\n",
    "import seaborn as sns\n",
    "import matplotlib.pyplot as plt\n",
    "from sklearn.linear_model import LinearRegression\n",
    "from sklearn.metrics import mean_squared_error, mean_absolute_error, r2_score\n",
    "from sklearn import preprocessing, svm\n",
    "from sklearn.model_selection import train_test_split\n",
    "from sklearn.feature_selection import SelectFromModel\n",
    "from sklearn.linear_model import Lasso\n",
    "from sklearn.linear_model import ElasticNet",
    "from sklearn.preprocessing import StandardScaler\n"
   ]
  },
  {
   "cell_type": "code",
   "execution_count": null,
   "id": "52455ca4-d5f0-4b5c-bd87-0942b57385d5",
   "metadata": {},
   "outputs": [],
   "source": [
    "df = pd.read_csv('CSDataAsCSV.csv', usecols=[i for i in range(6, 18) if i != 16])\n",
    "df.head()"
   ]
  },
  {
   "cell_type": "code",
   "execution_count": null,
   "id": "3576a90c-1c0d-48bf-8526-760e54b0799e",
   "metadata": {},
   "outputs": [],
   "source": [
    "scaler = StandardScaler()\n",
    "scaled_df=df.copy()\n",
    "scaled_df=pd.DataFrame(scaler.fit_transform(scaled_df), columns=scaled_df.columns)\n",
    "scaled_df.head()"
   ]
  },
  {
   "cell_type": "code",
   "execution_count": null,
   "id": "309fff9d-bd0b-4406-830a-5e29dd211ea8",
   "metadata": {},
   "outputs": [],
   "source": [
    "X = scaled_df.drop('criticality_score', axis=1)\n",
    "y = scaled_df['criticality_score']"
   ]
  },
  {
   "cell_type": "code",
   "execution_count": null,
   "id": "471d710b-f67d-40ed-a499-a81b28a17d29",
   "metadata": {},
   "outputs": [],
   "source": [
    "X_train, X_test, y_train, y_test = train_test_split(\n",
    "    X, y, test_size=0.3, random_state=101)"
   ]
  },
  {
   "cell_type": "markdown",
   "id": "ec474053-8c9d-4ce1-9669-c97dd0b38b81",
   "metadata": {},
   "source": [
    "\n",
    "\n",
    "\n",
    "\n",
    "\n",
    "\n",
    "\n",
    "\n",
    "1) SelectFromModel\n",
    "\n",
    "\n",
    "\n",
    "\n",
    "\n",
    "\n",
    "\n"
   ]
  },
  {
   "cell_type": "code",
   "execution_count": null,
   "id": "926e90fb-df0d-4962-8551-091977260d8f",
   "metadata": {},
   "outputs": [],
   "source": [
    "estimator = Lasso(alpha = 0.1)\n",
    "featureSelection = SelectFromModel(estimator)\n",
    "featureSelection.fit(X, y)"
   ]
  },
  {
   "cell_type": "code",
   "execution_count": null,
   "id": "e84faa0d-c7ee-456c-ade8-e4c128fb191f",
   "metadata": {},
   "outputs": [],
   "source": [
    "selectedFeatures = featureSelection.transform(X)\n",
    "selectedFeatures"
   ]
  },
  {
   "cell_type": "code",
   "execution_count": null,
   "id": "ddbdb25d-43bd-41ec-af22-aaf67654a687",
   "metadata": {},
   "outputs": [],
   "source": [
    "X.columns[featureSelection.get_support()]"
   ]
  },
  {
   "cell_type": "markdown",
   "id": "330e2548-fa35-42be-8bb5-ef2753c4f20c",
   "metadata": {},
   "source": [
    "\n",
    "\n",
    "\n",
    "\n",
    "\n",
    "\n",
    "\n",
    "2) Recursive Feature Selection\n",
    "\n",
    "\n",
    "\n",
    "\n",
    "\n",
    "\n"
   ]
  },
  {
   "cell_type": "code",
   "execution_count": null,
   "id": "232f60d4-e4e6-41e6-9bca-7caecbebe7fb",
   "metadata": {},
   "outputs": [],
   "source": [
    "from sklearn.feature_selection import RFE\n",
    "model = ElasticNet(alpha = 0.01)\n",
    "rfe = RFE(model)\n",
    "rfe.fit(X_train, y_train)\n",
    "print(rfe.support_)\n",
    "print(rfe.ranking_)"
   ]
  },
  {
   "cell_type": "code",
   "execution_count": null,
   "id": "daf0c52d-6aa0-4b64-9f13-e5a249086699",
   "metadata": {},
   "outputs": [],
   "source": [
    "\n",
    "rfe.score(X_test, y_test)"
   ]
  },
  {
   "cell_type": "code",
   "execution_count": null,
   "id": "0d3730e9-0148-4ac4-92fd-2944c7c1d38c",
   "metadata": {},
   "outputs": [],
   "source": [
    "\n",
    "pd.DataFrame(rfe.support_,index=X.columns,columns=[\"Necessary Feature\"])"
   ]
  },
  {
   "cell_type": "code",
   "execution_count": null,
   "id": "6e7690e9-01c7-4546-b4a6-14a2d9167189",
   "metadata": {},
   "outputs": [],
   "source": [
    "pd.DataFrame(rfe.ranking_,index=X.columns,columns=[\"Relative Importance Ranking\"])"
   ]
  },
  {
   "cell_type": "markdown",
   "id": "27b45ffb-9ef4-4227-b05e-d1cc870a8e3e",
   "metadata": {},
   "source": [
    "\n",
    "\n",
    "\n",
    "\n",
    "\n",
    "\n",
    "\n",
    "\n",
    "\n",
    "3) Sequential Forward Floating Selection\n",
    "\n",
    "\n",
    "\n",
    "\n",
    "\n",
    "\n",
    "\n",
    "\n"
   ]
  },
  {
   "cell_type": "code",
   "execution_count": null,
   "id": "69cb9de7-fc54-4bbb-b510-59755b002628",
   "metadata": {},
   "outputs": [],
   "source": [
    "from mlxtend.feature_selection import SequentialFeatureSelector as SFS\n",
    "from sklearn.model_selection import KFold\n",
    "\n",
    "en = ElasticNet(alpha = 0.1)\n",
    "\n",
    "sfs = SFS(en, \n",
    "          k_features=5, \n",
    "          forward=True, \n",
    "          floating=True, \n",
    "          scoring='r2',\n",
    "          cv = KFold(n_splits=5, shuffle=True))\n",
    "\n",
    "sfs = sfs.fit(X, y)"
   ]
  },
  {
   "cell_type": "code",
   "execution_count": null,
   "id": "ad3f586f-0586-48a0-aa25-510294d780b1",
   "metadata": {},
   "outputs": [],
   "source": [
    "print('\\nSequential Forward Floating Selection (k=5):')\n",
    "print(sfs.k_feature_idx_)\n",
    "print('CV Score:')\n",
    "print(sfs.k_score_)"
   ]
  },
  {
   "cell_type": "code",
   "execution_count": null,
   "id": "5cfd8323-3257-473c-9751-ecf83db5921c",
   "metadata": {},
   "outputs": [],
   "source": [
    "from mlxtend.plotting import plot_sequential_feature_selection as plot_sfs\n",
    "fig = plot_sfs(sfs.get_metric_dict(), kind='std_err')\n",
    "\n",
    "plt.title('Sequential Forward Selection (w. StdErr)')\n",
    "plt.grid()\n",
    "plt.show()"
   ]
  },
  {
   "cell_type": "markdown",
   "id": "8075a54c-b6f3-4b41-b760-c7466b7fe78b",
   "metadata": {},
   "source": [
    " \n",
    " \n",
    " \n",
    " \n",
    " \n",
    " \n",
    " \n",
    " \n",
    " \n",
    " \n",
    " 4) Sequential Backward Floating Selection:\n",
    " \n",
    " \n",
    " \n",
    " \n",
    " \n",
    " \n",
    " \n",
    " \n",
    " "
   ]
  },
  {
   "cell_type": "code",
   "execution_count": null,
   "id": "03063905-c1ad-43f5-b703-f0274cd7385b",
   "metadata": {},
   "outputs": [],
   "source": [
    "en = ElasticNet(alpha=0.1)\n",
    "\n",
    "sfs2 = SFS(en, \n",
    "          k_features=5, \n",
    "          forward=False, \n",
    "          floating=True, \n",
    "          scoring='r2',\n",
    "          cv = KFold(n_splits=5, shuffle=True))\n",
    "\n",
    "sfs2 = sfs2.fit(X, y)"
   ]
  },
  {
   "cell_type": "code",
   "execution_count": null,
   "id": "44bb52bf-c319-4c09-a9c5-caf50029dc76",
   "metadata": {},
   "outputs": [],
   "source": [
    "print('\\nSequential Backward Floating Selection (k=5):')\n",
    "print(sfs2.k_feature_idx_)\n",
    "print('CV Score:')\n",
    "print(sfs2.k_score_)"
   ]
  }
 ],
 "metadata": {
  "kernelspec": {
   "display_name": "Python 3 (ipykernel)",
   "language": "python",
   "name": "python3"
  },
  "language_info": {
   "codemirror_mode": {
    "name": "ipython",
    "version": 3
   },
   "file_extension": ".py",
   "mimetype": "text/x-python",
   "name": "python",
   "nbconvert_exporter": "python",
   "pygments_lexer": "ipython3",
   "version": "3.10.9"
  }
 },
 "nbformat": 4,
 "nbformat_minor": 5
}
