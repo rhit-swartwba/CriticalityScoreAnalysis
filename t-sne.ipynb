{
 "cells": [
  {
   "cell_type": "code",
   "execution_count": null,
   "id": "a86ab6ac-965b-4c13-a982-402dd1050965",
   "metadata": {},
   "outputs": [],
   "source": [
    "import numpy as np\n",
    "import pandas as pd\n",
    "import seaborn as sns\n",
    "import matplotlib.pyplot as plt\n",
    "from sklearn.manifold import TSNE"
   ]
  },
  {
   "cell_type": "code",
   "execution_count": null,
   "id": "52455ca4-d5f0-4b5c-bd87-0942b57385d5",
   "metadata": {},
   "outputs": [],
   "source": [
    "df = pd.read_csv('\\\\CSDataAsCSV.csv', usecols=[i for i in range(6, 18) if i != 16])\n",
    "df.head()"
   ]
  },
  {
   "cell_type": "code",
   "execution_count": null,
   "id": "309fff9d-bd0b-4406-830a-5e29dd211ea8",
   "metadata": {},
   "outputs": [],
   "source": [
    "#random sampling\n",
    "df = df.sample(n = 10000)\n",
    "df.index = range(len(df))\n",
    "X = df.drop('criticality_score', axis=1)\n",
    "y = df['criticality_score'].round(1)\n",
    "#Rounding to visualize T-SNE"
   ]
  },
  {
   "cell_type": "code",
   "execution_count": null,
   "id": "471d710b-f67d-40ed-a499-a81b28a17d29",
   "metadata": {},
   "outputs": [],
   "source": [
    "model = TSNE(random_state=2)\n",
    "transformed = model.fit_transform(X)"
   ]
  },
  {
   "cell_type": "code",
   "execution_count": null,
   "id": "926e90fb-df0d-4962-8551-091977260d8f",
   "metadata": {},
   "outputs": [],
   "source": [
    "df2 = pd.DataFrame(transformed)\n",
    "df2.columns = ['x', 'y']\n",
    "df2['criticality_score'] = y\n",
    "df2.head()"
   ]
  },
  {
   "cell_type": "code",
   "execution_count": null,
   "id": "78d4db10-c6f6-4774-81b1-eaae5a33670c",
   "metadata": {},
   "outputs": [],
   "source": [
    "#plotting first 10,000 data points\n",
    "plot = sns.scatterplot(x='x', y='y', data=df2, hue=y, palette=sns.color_palette(\"hls\", 10))\n",
    "plot.set_title(\"T-SNE Criticality Score Data Visualization\")\n",
    "plot.set_xlabel(\"T-SNE x\")\n",
    "plot.set_ylabel(\"T-SNE y\")"
   ]
  }
 ],
 "metadata": {
  "kernelspec": {
   "display_name": "Python 3 (ipykernel)",
   "language": "python",
   "name": "python3"
  },
  "language_info": {
   "codemirror_mode": {
    "name": "ipython",
    "version": 3
   },
   "file_extension": ".py",
   "mimetype": "text/x-python",
   "name": "python",
   "nbconvert_exporter": "python",
   "pygments_lexer": "ipython3",
   "version": "3.10.9"
  }
 },
 "nbformat": 4,
 "nbformat_minor": 5
}
