{
 "cells": [
  {
   "cell_type": "code",
   "execution_count": null,
   "id": "a86ab6ac-965b-4c13-a982-402dd1050965",
   "metadata": {},
   "outputs": [],
   "source": [
    "import numpy as np\n",
    "import pandas as pd\n",
    "import seaborn as sns\n",
    "import matplotlib.pyplot as plt\n",
    "import matplotlib as mpl\n",
    "from sklearn import preprocessing, svm\n",
    "from sklearn.model_selection import train_test_split"
   ]
  },
  {
   "cell_type": "code",
   "execution_count": null,
   "id": "52455ca4-d5f0-4b5c-bd87-0942b57385d5",
   "metadata": {},
   "outputs": [],
   "source": [
    "df = pd.read_csv('CSDataAsCSV.csv', usecols=[i for i in range(6, 18) if i != 16])\n",
    "df.head()"
   ]
  },
  {
   "cell_type": "code",
   "execution_count": null,
   "id": "8ae97ced-9c2c-499d-8f44-899f10a0f17e",
   "metadata": {},
   "outputs": [],
   "source": [
    "pearsonMatrix = df.corr(method ='pearson').round(2)\n",
    "sns.heatmap(pearsonMatrix, annot=True)\n",
    "plt.title('Pearson Correlation Heat Map')\n",
    "plt.show()"
   ]
  },
  {
   "cell_type": "code",
   "execution_count": null,
   "id": "71333147-d13d-4510-8256-b14de9b1f86f",
   "metadata": {},
   "outputs": [],
   "source": [
    "spearmanMatrix = df.corr(method ='spearman').round(2)\n",
    "sns.heatmap(spearmanMatrix, annot=True)\n",
    "plt.title('Spearman Correlation Heat Map')\n",
    "plt.show()"
   ]
  }
 ],
 "metadata": {
  "kernelspec": {
   "display_name": "Python 3 (ipykernel)",
   "language": "python",
   "name": "python3"
  },
  "language_info": {
   "codemirror_mode": {
    "name": "ipython",
    "version": 3
   },
   "file_extension": ".py",
   "mimetype": "text/x-python",
   "name": "python",
   "nbconvert_exporter": "python",
   "pygments_lexer": "ipython3",
   "version": "3.10.9"
  }
 },
 "nbformat": 4,
 "nbformat_minor": 5
}
